{
 "cells": [
  {
   "cell_type": "code",
   "execution_count": 1,
   "id": "df0534ce",
   "metadata": {
    "_cell_guid": "b1076dfc-b9ad-4769-8c92-a6c4dae69d19",
    "_uuid": "8f2839f25d086af736a60e9eeb907d3b93b6e0e5",
    "execution": {
     "iopub.execute_input": "2024-03-12T03:27:46.236143Z",
     "iopub.status.busy": "2024-03-12T03:27:46.235495Z",
     "iopub.status.idle": "2024-03-12T03:27:47.162137Z",
     "shell.execute_reply": "2024-03-12T03:27:47.161019Z"
    },
    "papermill": {
     "duration": 0.937593,
     "end_time": "2024-03-12T03:27:47.164936",
     "exception": false,
     "start_time": "2024-03-12T03:27:46.227343",
     "status": "completed"
    },
    "tags": []
   },
   "outputs": [
    {
     "name": "stdout",
     "output_type": "stream",
     "text": [
      "/kaggle/input/final-year-project/NeighRadius.csv\n",
      "/kaggle/input/final-year-project/Radius.csv\n",
      "/kaggle/input/final-year-project/Face.csv\n",
      "/kaggle/input/final-year-project/NeighFace.csv\n"
     ]
    }
   ],
   "source": [
    "# This Python 3 environment comes with many helpful analytics libraries installed\n",
    "# It is defined by the kaggle/python Docker image: https://github.com/kaggle/docker-python\n",
    "# For example, here's several helpful packages to load\n",
    "\n",
    "import numpy as np # linear algebra\n",
    "import pandas as pd # data processing, CSV file I/O (e.g. pd.read_csv)\n",
    "\n",
    "# Input data files are available in the read-only \"../input/\" directory\n",
    "# For example, running this (by clicking run or pressing Shift+Enter) will list all files under the input directory\n",
    "\n",
    "import os\n",
    "for dirname, _, filenames in os.walk('/kaggle/input'):\n",
    "    for filename in filenames:\n",
    "        print(os.path.join(dirname, filename))\n",
    "\n",
    "# You can write up to 20GB to the current directory (/kaggle/working/) that gets preserved as output when you create a version using \"Save & Run All\" \n",
    "# You can also write temporary files to /kaggle/temp/, but they won't be saved outside of the current session"
   ]
  },
  {
   "cell_type": "code",
   "execution_count": 2,
   "id": "b9401536",
   "metadata": {
    "execution": {
     "iopub.execute_input": "2024-03-12T03:27:47.178108Z",
     "iopub.status.busy": "2024-03-12T03:27:47.177515Z",
     "iopub.status.idle": "2024-03-12T03:27:50.554529Z",
     "shell.execute_reply": "2024-03-12T03:27:50.553449Z"
    },
    "papermill": {
     "duration": 3.386439,
     "end_time": "2024-03-12T03:27:50.557221",
     "exception": false,
     "start_time": "2024-03-12T03:27:47.170782",
     "status": "completed"
    },
    "tags": []
   },
   "outputs": [],
   "source": [
    "import pandas as pd\n",
    "import seaborn as sns\n",
    "import matplotlib.pyplot as plt\n",
    "from scipy.stats import pearsonr\n",
    "import statsmodels.api as sm"
   ]
  },
  {
   "cell_type": "code",
   "execution_count": 3,
   "id": "e50064b3",
   "metadata": {
    "execution": {
     "iopub.execute_input": "2024-03-12T03:27:50.569930Z",
     "iopub.status.busy": "2024-03-12T03:27:50.569399Z",
     "iopub.status.idle": "2024-03-12T03:27:57.325072Z",
     "shell.execute_reply": "2024-03-12T03:27:57.323941Z"
    },
    "papermill": {
     "duration": 6.765147,
     "end_time": "2024-03-12T03:27:57.327881",
     "exception": false,
     "start_time": "2024-03-12T03:27:50.562734",
     "status": "completed"
    },
    "tags": []
   },
   "outputs": [],
   "source": [
    "df_face = pd.read_csv('/kaggle/input/final-year-project/Face.csv')\n",
    "df_neigh_face= pd.read_csv('/kaggle/input/final-year-project/NeighFace.csv')\n",
    "df_neigh_radius= pd.read_csv('/kaggle/input/final-year-project/NeighRadius.csv')\n",
    "df_radius = pd.read_csv('/kaggle/input/final-year-project/Radius.csv')"
   ]
  },
  {
   "cell_type": "code",
   "execution_count": 4,
   "id": "eae54fef",
   "metadata": {
    "execution": {
     "iopub.execute_input": "2024-03-12T03:27:57.342275Z",
     "iopub.status.busy": "2024-03-12T03:27:57.341847Z",
     "iopub.status.idle": "2024-03-12T03:27:57.660254Z",
     "shell.execute_reply": "2024-03-12T03:27:57.659051Z"
    },
    "papermill": {
     "duration": 0.328368,
     "end_time": "2024-03-12T03:27:57.663214",
     "exception": false,
     "start_time": "2024-03-12T03:27:57.334846",
     "status": "completed"
    },
    "tags": []
   },
   "outputs": [],
   "source": [
    "merged_df = pd.concat([df_radius.set_index('Unnamed: 0'), df_face.set_index('Unnamed: 0'), df_neigh_radius.set_index('Unnamed: 0'), df_neigh_face.set_index('Unnamed: 0')], axis=1, keys=['Radius', 'Face', 'NeighRadius', 'NeighFace'])\n"
   ]
  },
  {
   "cell_type": "code",
   "execution_count": 5,
   "id": "0de838a0",
   "metadata": {
    "execution": {
     "iopub.execute_input": "2024-03-12T03:27:57.676182Z",
     "iopub.status.busy": "2024-03-12T03:27:57.675755Z",
     "iopub.status.idle": "2024-03-12T03:27:57.688464Z",
     "shell.execute_reply": "2024-03-12T03:27:57.687571Z"
    },
    "papermill": {
     "duration": 0.022158,
     "end_time": "2024-03-12T03:27:57.690852",
     "exception": false,
     "start_time": "2024-03-12T03:27:57.668694",
     "status": "completed"
    },
    "tags": []
   },
   "outputs": [],
   "source": [
    "time_point = 't1'\n",
    "data_at_t1 = merged_df.xs(time_point, level=1, axis=1).reset_index()\n"
   ]
  },
  {
   "cell_type": "code",
   "execution_count": 6,
   "id": "d22c9c54",
   "metadata": {
    "execution": {
     "iopub.execute_input": "2024-03-12T03:27:57.704081Z",
     "iopub.status.busy": "2024-03-12T03:27:57.703441Z",
     "iopub.status.idle": "2024-03-12T03:27:57.709617Z",
     "shell.execute_reply": "2024-03-12T03:27:57.708450Z"
    },
    "papermill": {
     "duration": 0.015804,
     "end_time": "2024-03-12T03:27:57.712143",
     "exception": false,
     "start_time": "2024-03-12T03:27:57.696339",
     "status": "completed"
    },
    "tags": []
   },
   "outputs": [],
   "source": [
    "data_at_t1_numeric = data_at_t1.drop(['Unnamed: 0'], axis=1)"
   ]
  },
  {
   "cell_type": "code",
   "execution_count": 7,
   "id": "75aac516",
   "metadata": {
    "execution": {
     "iopub.execute_input": "2024-03-12T03:27:57.724712Z",
     "iopub.status.busy": "2024-03-12T03:27:57.724305Z",
     "iopub.status.idle": "2024-03-12T03:27:57.744277Z",
     "shell.execute_reply": "2024-03-12T03:27:57.743138Z"
    },
    "papermill": {
     "duration": 0.029457,
     "end_time": "2024-03-12T03:27:57.747004",
     "exception": false,
     "start_time": "2024-03-12T03:27:57.717547",
     "status": "completed"
    },
    "tags": []
   },
   "outputs": [
    {
     "data": {
      "text/html": [
       "<div>\n",
       "<style scoped>\n",
       "    .dataframe tbody tr th:only-of-type {\n",
       "        vertical-align: middle;\n",
       "    }\n",
       "\n",
       "    .dataframe tbody tr th {\n",
       "        vertical-align: top;\n",
       "    }\n",
       "\n",
       "    .dataframe thead th {\n",
       "        text-align: right;\n",
       "    }\n",
       "</style>\n",
       "<table border=\"1\" class=\"dataframe\">\n",
       "  <thead>\n",
       "    <tr style=\"text-align: right;\">\n",
       "      <th></th>\n",
       "      <th>Radius</th>\n",
       "      <th>Face</th>\n",
       "      <th>NeighRadius</th>\n",
       "      <th>NeighFace</th>\n",
       "    </tr>\n",
       "  </thead>\n",
       "  <tbody>\n",
       "    <tr>\n",
       "      <th>Radius</th>\n",
       "      <td>1.000000</td>\n",
       "      <td>0.746277</td>\n",
       "      <td>0.585424</td>\n",
       "      <td>0.235521</td>\n",
       "    </tr>\n",
       "    <tr>\n",
       "      <th>Face</th>\n",
       "      <td>0.746277</td>\n",
       "      <td>1.000000</td>\n",
       "      <td>0.140430</td>\n",
       "      <td>-0.027427</td>\n",
       "    </tr>\n",
       "    <tr>\n",
       "      <th>NeighRadius</th>\n",
       "      <td>0.585424</td>\n",
       "      <td>0.140430</td>\n",
       "      <td>1.000000</td>\n",
       "      <td>0.600565</td>\n",
       "    </tr>\n",
       "    <tr>\n",
       "      <th>NeighFace</th>\n",
       "      <td>0.235521</td>\n",
       "      <td>-0.027427</td>\n",
       "      <td>0.600565</td>\n",
       "      <td>1.000000</td>\n",
       "    </tr>\n",
       "  </tbody>\n",
       "</table>\n",
       "</div>"
      ],
      "text/plain": [
       "               Radius      Face  NeighRadius  NeighFace\n",
       "Radius       1.000000  0.746277     0.585424   0.235521\n",
       "Face         0.746277  1.000000     0.140430  -0.027427\n",
       "NeighRadius  0.585424  0.140430     1.000000   0.600565\n",
       "NeighFace    0.235521 -0.027427     0.600565   1.000000"
      ]
     },
     "execution_count": 7,
     "metadata": {},
     "output_type": "execute_result"
    }
   ],
   "source": [
    "# Compute the correlation matrix for numeric data only\n",
    "correlation_matrix_numeric = data_at_t1_numeric.corr()\n",
    "\n",
    "correlation_matrix_numeric"
   ]
  },
  {
   "cell_type": "code",
   "execution_count": 8,
   "id": "de247d80",
   "metadata": {
    "execution": {
     "iopub.execute_input": "2024-03-12T03:27:57.760329Z",
     "iopub.status.busy": "2024-03-12T03:27:57.759934Z",
     "iopub.status.idle": "2024-03-12T03:27:57.765967Z",
     "shell.execute_reply": "2024-03-12T03:27:57.764902Z"
    },
    "papermill": {
     "duration": 0.015485,
     "end_time": "2024-03-12T03:27:57.768311",
     "exception": false,
     "start_time": "2024-03-12T03:27:57.752826",
     "status": "completed"
    },
    "tags": []
   },
   "outputs": [],
   "source": [
    "# Assuming data_at_t1_numeric already contains only the columns for 'Radius', 'Face', 'NeighRadius', and 'NeighFace' at time point t1\n",
    "X = data_at_t1_numeric[['Face', 'NeighRadius', 'NeighFace']]  # Independent variables\n",
    "y = data_at_t1_numeric['Radius']  # Dependent variable (the one you want to predict)\n"
   ]
  },
  {
   "cell_type": "code",
   "execution_count": 9,
   "id": "4437809d",
   "metadata": {
    "execution": {
     "iopub.execute_input": "2024-03-12T03:27:57.781438Z",
     "iopub.status.busy": "2024-03-12T03:27:57.781069Z",
     "iopub.status.idle": "2024-03-12T03:27:57.789348Z",
     "shell.execute_reply": "2024-03-12T03:27:57.788259Z"
    },
    "papermill": {
     "duration": 0.017783,
     "end_time": "2024-03-12T03:27:57.791866",
     "exception": false,
     "start_time": "2024-03-12T03:27:57.774083",
     "status": "completed"
    },
    "tags": []
   },
   "outputs": [],
   "source": [
    "X = sm.add_constant(X)\n"
   ]
  },
  {
   "cell_type": "code",
   "execution_count": 10,
   "id": "ae7bc1a6",
   "metadata": {
    "execution": {
     "iopub.execute_input": "2024-03-12T03:27:57.805195Z",
     "iopub.status.busy": "2024-03-12T03:27:57.804773Z",
     "iopub.status.idle": "2024-03-12T03:27:57.829690Z",
     "shell.execute_reply": "2024-03-12T03:27:57.828798Z"
    },
    "papermill": {
     "duration": 0.034719,
     "end_time": "2024-03-12T03:27:57.832270",
     "exception": false,
     "start_time": "2024-03-12T03:27:57.797551",
     "status": "completed"
    },
    "tags": []
   },
   "outputs": [],
   "source": [
    "# Fitting the Ordinary Least Squares (OLS) model\n",
    "model = sm.OLS(y, X).fit()"
   ]
  },
  {
   "cell_type": "code",
   "execution_count": 11,
   "id": "4a76b086",
   "metadata": {
    "execution": {
     "iopub.execute_input": "2024-03-12T03:27:57.845676Z",
     "iopub.status.busy": "2024-03-12T03:27:57.845017Z",
     "iopub.status.idle": "2024-03-12T03:27:57.882798Z",
     "shell.execute_reply": "2024-03-12T03:27:57.881293Z"
    },
    "papermill": {
     "duration": 0.049203,
     "end_time": "2024-03-12T03:27:57.887218",
     "exception": false,
     "start_time": "2024-03-12T03:27:57.838015",
     "status": "completed"
    },
    "tags": []
   },
   "outputs": [
    {
     "name": "stdout",
     "output_type": "stream",
     "text": [
      "                            OLS Regression Results                            \n",
      "==============================================================================\n",
      "Dep. Variable:                 Radius   R-squared:                       0.795\n",
      "Model:                            OLS   Adj. R-squared:                  0.795\n",
      "Method:                 Least Squares   F-statistic:                     6465.\n",
      "Date:                Tue, 12 Mar 2024   Prob (F-statistic):               0.00\n",
      "Time:                        03:27:57   Log-Likelihood:                -5301.5\n",
      "No. Observations:                5000   AIC:                         1.061e+04\n",
      "Df Residuals:                    4996   BIC:                         1.064e+04\n",
      "Df Model:                           3                                         \n",
      "Covariance Type:            nonrobust                                         \n",
      "===============================================================================\n",
      "                  coef    std err          t      P>|t|      [0.025      0.975]\n",
      "-------------------------------------------------------------------------------\n",
      "const          -6.2113      0.217    -28.665      0.000      -6.636      -5.787\n",
      "Face            0.3009      0.003    102.578      0.000       0.295       0.307\n",
      "NeighRadius     1.2931      0.020     64.897      0.000       1.254       1.332\n",
      "NeighFace      -0.1219      0.015     -7.962      0.000      -0.152      -0.092\n",
      "==============================================================================\n",
      "Omnibus:                      107.275   Durbin-Watson:                   2.019\n",
      "Prob(Omnibus):                  0.000   Jarque-Bera (JB):              235.993\n",
      "Skew:                          -0.020   Prob(JB):                     5.69e-52\n",
      "Kurtosis:                       4.064   Cond. No.                         567.\n",
      "==============================================================================\n",
      "\n",
      "Notes:\n",
      "[1] Standard Errors assume that the covariance matrix of the errors is correctly specified.\n"
     ]
    }
   ],
   "source": [
    "# Print out the statistics\n",
    "model_summary = model.summary()\n",
    "print(model_summary)"
   ]
  },
  {
   "cell_type": "markdown",
   "id": "02ca104e",
   "metadata": {
    "papermill": {
     "duration": 0.011715,
     "end_time": "2024-03-12T03:27:57.910904",
     "exception": false,
     "start_time": "2024-03-12T03:27:57.899189",
     "status": "completed"
    },
    "tags": []
   },
   "source": []
  },
  {
   "cell_type": "markdown",
   "id": "7e89e1af",
   "metadata": {
    "papermill": {
     "duration": 0.011489,
     "end_time": "2024-03-12T03:27:57.934341",
     "exception": false,
     "start_time": "2024-03-12T03:27:57.922852",
     "status": "completed"
    },
    "tags": []
   },
   "source": [
    "The output from the OLS regression analysis provides a detailed look into the relationship between the dependent variable `Radius` and the independent variables `Face`, `NeighRadius`, and `NeighFace`. The model's summary offers several key insights:\n",
    "\n",
    "1. **Coefficients (coef)**: These values indicate the expected change in the dependent variable (grain radius) for a one-unit increase in the independent variable, holding all other variables constant.\n",
    "   - **Face**: A coefficient of 0.3009 suggests that for each additional face count, the grain radius increases by approximately 0.3009 units.\n",
    "   - **NeighRadius**: A coefficient of 1.2931 indicates that for each unit increase in the neighbor's average radius, the grain radius increases by approximately 1.2931 units.\n",
    "   - **NeighFace**: A coefficient of -0.1219 means that for each additional neighbor face count, the grain radius decreases by approximately 0.1219 units.\n",
    "\n",
    "2. **R-squared (0.795)**: This value indicates that approximately 79.5% of the variability in the grain radius can be explained by the model. It's a measure of how well the independent variables predict the dependent variable.\n",
    "\n",
    "3. **Adjusted R-squared (0.795)**: Similar to the R-squared value, but it takes into account the number of predictors in the model. Since it's very close to the R-squared value, it suggests that the model is not penalized significantly for unnecessary complexity.\n",
    "\n",
    "4. **F-statistic and Prob (F-statistic)**: The F-statistic value is quite large, and the probability of observing such a value if the independent variables had no relationship with the dependent variable is virtually zero. This strongly suggests that the model is significant.\n",
    "\n",
    "5. **P>|t| (P-value)**: The p-values for all coefficients are significantly less than 0.05, indicating that each predictor is statistically significant, and we can reject the null hypothesis that a coefficient equals zero.\n",
    "\n",
    "Based on these results, the regression equation that models the relationship between the variables is:\n",
    "\n",
    "Radius = -6.2113 + 0.3009(Face) + 1.2931(NeighRadius) - 0.1219(NeighFace) ]\n",
    "\n",
    "This equation can be used to predict the radius of a grain based on the face count, neighbor average radius, and neighbor face count. The negative coefficient for `NeighFace` suggests that having neighbors with a higher face count is associated with a smaller grain radius, perhaps due to constraints or competition in the polycrystalline structure. In contrast, the positive coefficients for `Face` and `NeighRadius` suggest that grains tend to be larger when they themselves have more faces and are surrounded by larger neighbors."
   ]
  },
  {
   "cell_type": "code",
   "execution_count": null,
   "id": "bbeb073f",
   "metadata": {
    "papermill": {
     "duration": 0.011615,
     "end_time": "2024-03-12T03:27:57.958017",
     "exception": false,
     "start_time": "2024-03-12T03:27:57.946402",
     "status": "completed"
    },
    "tags": []
   },
   "outputs": [],
   "source": []
  }
 ],
 "metadata": {
  "kaggle": {
   "accelerator": "none",
   "dataSources": [
    {
     "datasetId": 4581876,
     "sourceId": 7820320,
     "sourceType": "datasetVersion"
    }
   ],
   "dockerImageVersionId": 30664,
   "isGpuEnabled": false,
   "isInternetEnabled": true,
   "language": "python",
   "sourceType": "notebook"
  },
  "kernelspec": {
   "display_name": "Python 3",
   "language": "python",
   "name": "python3"
  },
  "language_info": {
   "codemirror_mode": {
    "name": "ipython",
    "version": 3
   },
   "file_extension": ".py",
   "mimetype": "text/x-python",
   "name": "python",
   "nbconvert_exporter": "python",
   "pygments_lexer": "ipython3",
   "version": "3.10.13"
  },
  "papermill": {
   "default_parameters": {},
   "duration": 15.545447,
   "end_time": "2024-03-12T03:27:58.698249",
   "environment_variables": {},
   "exception": null,
   "input_path": "__notebook__.ipynb",
   "output_path": "__notebook__.ipynb",
   "parameters": {},
   "start_time": "2024-03-12T03:27:43.152802",
   "version": "2.5.0"
  }
 },
 "nbformat": 4,
 "nbformat_minor": 5
}
